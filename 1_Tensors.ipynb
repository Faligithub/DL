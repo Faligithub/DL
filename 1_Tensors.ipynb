{
  "nbformat": 4,
  "nbformat_minor": 0,
  "metadata": {
    "colab": {
      "provenance": []
    },
    "kernelspec": {
      "name": "python3",
      "display_name": "Python 3"
    },
    "language_info": {
      "name": "python"
    }
  },
  "cells": [
    {
      "cell_type": "markdown",
      "source": [
        "# Create Tensors and perform basic operations with tensors"
      ],
      "metadata": {
        "id": "zHDg1MZQInC2"
      }
    },
    {
      "cell_type": "markdown",
      "source": [
        "Description: This program demonstrates how to create and perform basic operations on tensors using NumPy. It starts by creating a 2D tensor and then performs element-wise operations such as multiplication, addition, and exponentiation. It also includes a transpose operation to rearrange the tensor's dimensions. These operations illustrate fundamental tensor manipulations commonly used in fields like machine learning, physics, and data science, where tensors are used to represent and process multi-dimensional data."
      ],
      "metadata": {
        "id": "LLIIKHdiI5IC"
      }
    },
    {
      "cell_type": "code",
      "source": [
        "import numpy as np\n",
        "\n",
        "t = np.array([[1, 2, 3], [4, 5, 6]])\n",
        "t1 = t * 2\n",
        "print(\" \\n\",t1)\n",
        "\n",
        "# Element-wise addition\n",
        "t2 = t + 3\n",
        "print(\" \\n\" , t2)\n",
        "\n",
        "# Element-wise exponentiation\n",
        "t3 = np.power(t, 2)\n",
        "\n",
        "# Transpose\n",
        "print(\" \\n\" ,t3)\n",
        "\n",
        "t4 = np.transpose(t)\n",
        "print(\" \\n\" ,t4)"
      ],
      "metadata": {
        "colab": {
          "base_uri": "https://localhost:8080/"
        },
        "id": "uHj43wpmIrmG",
        "outputId": "f1f9fd4c-6b44-44fd-9086-ddc406c80234"
      },
      "execution_count": 1,
      "outputs": [
        {
          "output_type": "stream",
          "name": "stdout",
          "text": [
            " \n",
            " [[ 2  4  6]\n",
            " [ 8 10 12]]\n",
            " \n",
            " [[4 5 6]\n",
            " [7 8 9]]\n",
            " \n",
            " [[ 1  4  9]\n",
            " [16 25 36]]\n",
            " \n",
            " [[1 4]\n",
            " [2 5]\n",
            " [3 6]]\n"
          ]
        }
      ]
    },
    {
      "cell_type": "markdown",
      "source": [
        "# Create Tensors and apply split & merge operations and statistics operations"
      ],
      "metadata": {
        "id": "r3et0cnVJAzn"
      }
    },
    {
      "cell_type": "markdown",
      "source": [
        "Description: This Python program allows users to create a tensor by defining its dimensions and entering values, then perform split and merge operations along specified axes (rows or columns) using the numpy library. The program splits the tensor into two parts and then merges them back together, displaying the results at each step. It provides a hands-on demonstration of basic tensor manipulation, useful for learning tensor operations in numpy."
      ],
      "metadata": {
        "id": "sQZ_eMbxJB-Y"
      }
    },
    {
      "cell_type": "code",
      "source": [
        "import numpy as np\n",
        "\n",
        "# Get user input for tensor dimensions\n",
        "rows = int(input(\"Enter number of rows: \"))\n",
        "cols = int(input(\"Enter number of columns: \"))\n",
        "\n",
        "# Create an empty tensor with the specified dimensions\n",
        "tensor = np.empty((rows, cols))\n",
        "\n",
        "# Get user input for tensor values\n",
        "for i in range(rows):\n",
        "  for j in range(cols):\n",
        "    tensor[i][j] = float(input(f\"Enter value for [{i}][{j}]: \"))\n",
        "\n",
        "# Print the tensor\n",
        "print(\"Original Tensor:\\n\", tensor)\n",
        "\n",
        "\n",
        "\n",
        "# Get user input for split axis\n",
        "split_axis = int(input(\"Enter the axis to split along (0 for rows, 1 for columns): \"))\n",
        "\n",
        "# Split the tensor along the specified axis\n",
        "tensor_split = np.split(tensor, 2, axis=split_axis)\n",
        "# Print the split tensors\n",
        "print(\"Split tensors:\\n\", tensor_split)\n",
        "\n",
        "# Merge the split tensors along the same axis\n",
        "tensor_merged = np.concatenate(tensor_split, axis=split_axis)\n",
        "# Print the merged tensor\n",
        "print(\"Merged tensor:\\n\", tensor_merged)\n",
        "\n",
        "mean=np.mean(tensor)\n",
        "print(\"Mean:\",mean)\n",
        "\n",
        "std=np.std(tensor)\n",
        "print(\"Standard Deviation:\",std)\n",
        "\n",
        "var=np.var(tensor)\n",
        "print(\"Variance:\",var)\n",
        "\n",
        "max_val=np.max(tensor)\n",
        "print(\"Maximum Value:\",max_val)\n",
        "\n",
        "min_val=np.min(tensor)\n",
        "print(\"Minimum Value:\",min_val)\n",
        "\n",
        "reshaped_tensor = np.reshape(tensor, (1, -1))\n",
        "print(\"Reshaped Tensor:\\n\", reshaped_tensor)\n",
        "\n",
        "transposed_tensor = np.transpose(tensor)\n",
        "print(\"Transposed Tensor:\\n\", transposed_tensor)\n",
        "\n",
        "dot_product = np.dot(tensor, transposed_tensor)\n",
        "print(\"Dot Product:\\n\", dot_product)"
      ],
      "metadata": {
        "colab": {
          "base_uri": "https://localhost:8080/"
        },
        "id": "W4W1bZb7IroF",
        "outputId": "2ec3b014-9882-4c62-ce88-0ae4104e9b40"
      },
      "execution_count": 2,
      "outputs": [
        {
          "output_type": "stream",
          "name": "stdout",
          "text": [
            "Enter number of rows: 2\n",
            "Enter number of columns: 2\n",
            "Enter value for [0][0]: 1\n",
            "Enter value for [0][1]: 2\n",
            "Enter value for [1][0]: 3\n",
            "Enter value for [1][1]: 4\n",
            "Original Tensor:\n",
            " [[1. 2.]\n",
            " [3. 4.]]\n",
            "Enter the axis to split along (0 for rows, 1 for columns): 0\n",
            "Split tensors:\n",
            " [array([[1., 2.]]), array([[3., 4.]])]\n",
            "Merged tensor:\n",
            " [[1. 2.]\n",
            " [3. 4.]]\n",
            "Mean: 2.5\n",
            "Standard Deviation: 1.118033988749895\n",
            "Variance: 1.25\n",
            "Maximum Value: 4.0\n",
            "Minimum Value: 1.0\n",
            "Reshaped Tensor:\n",
            " [[1. 2. 3. 4.]]\n",
            "Transposed Tensor:\n",
            " [[1. 3.]\n",
            " [2. 4.]]\n",
            "Dot Product:\n",
            " [[ 5. 11.]\n",
            " [11. 25.]]\n"
          ]
        }
      ]
    }
  ]
}